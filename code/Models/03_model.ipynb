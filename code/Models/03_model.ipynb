{
 "cells": [
  {
   "cell_type": "markdown",
   "id": "4f398fe4-b5e9-4c93-a16d-ba81c0caa806",
   "metadata": {},
   "source": [
    "### This model will use the engineered \"title_text\" column as the feature since it performed better than the \"title\" column alone, and a Random Forest model in effort to reduce the variance in the logistic regression models."
   ]
  },
  {
   "cell_type": "code",
   "execution_count": 4,
   "id": "d0608bf4-cab1-4e50-94b8-744faf48de40",
   "metadata": {},
   "outputs": [],
   "source": [
    "import pandas as pd\n",
    "import numpy as np\n",
    "import seaborn as sns\n",
    "import matplotlib.pyplot as plt\n",
    "import sklearn.metrics as metrics\n",
    "\n",
    "from sklearn.ensemble import RandomForestClassifier, ExtraTreesClassifier\n",
    "from sklearn.model_selection import train_test_split, GridSearchCV, cross_val_score\n",
    "from sklearn.feature_extraction.text import CountVectorizer, TfidfVectorizer\n",
    "from sklearn.metrics import plot_confusion_matrix\n",
    "from sklearn.pipeline import Pipeline"
   ]
  },
  {
   "cell_type": "code",
   "execution_count": 5,
   "id": "a36efaf4-26b3-4180-8857-0bb6eb410841",
   "metadata": {},
   "outputs": [
    {
     "data": {
      "text/html": [
       "<div>\n",
       "<style scoped>\n",
       "    .dataframe tbody tr th:only-of-type {\n",
       "        vertical-align: middle;\n",
       "    }\n",
       "\n",
       "    .dataframe tbody tr th {\n",
       "        vertical-align: top;\n",
       "    }\n",
       "\n",
       "    .dataframe thead th {\n",
       "        text-align: right;\n",
       "    }\n",
       "</style>\n",
       "<table border=\"1\" class=\"dataframe\">\n",
       "  <thead>\n",
       "    <tr style=\"text-align: right;\">\n",
       "      <th></th>\n",
       "      <th>Unnamed: 0</th>\n",
       "      <th>title</th>\n",
       "      <th>selftext</th>\n",
       "      <th>subreddit</th>\n",
       "      <th>created_utc</th>\n",
       "    </tr>\n",
       "  </thead>\n",
       "  <tbody>\n",
       "    <tr>\n",
       "      <th>0</th>\n",
       "      <td>0</td>\n",
       "      <td>I'm working on my first UX project about reduc...</td>\n",
       "      <td>Hi, I know this is annoying but this is my fir...</td>\n",
       "      <td>sustainability</td>\n",
       "      <td>1646023113</td>\n",
       "    </tr>\n",
       "    <tr>\n",
       "      <th>1</th>\n",
       "      <td>1</td>\n",
       "      <td>I’m not quite sure what to say for this but I ...</td>\n",
       "      <td>NaN</td>\n",
       "      <td>sustainability</td>\n",
       "      <td>1646021616</td>\n",
       "    </tr>\n",
       "    <tr>\n",
       "      <th>2</th>\n",
       "      <td>2</td>\n",
       "      <td>Self-Sustainable Communities</td>\n",
       "      <td>Over the past few years, I've been learning a ...</td>\n",
       "      <td>sustainability</td>\n",
       "      <td>1646009146</td>\n",
       "    </tr>\n",
       "    <tr>\n",
       "      <th>3</th>\n",
       "      <td>3</td>\n",
       "      <td>Great Barrier Reef: New Huge Coral Found</td>\n",
       "      <td>NaN</td>\n",
       "      <td>sustainability</td>\n",
       "      <td>1645999683</td>\n",
       "    </tr>\n",
       "    <tr>\n",
       "      <th>4</th>\n",
       "      <td>4</td>\n",
       "      <td>Drying Hands: Blow Drying or Paper Towels</td>\n",
       "      <td>[removed]</td>\n",
       "      <td>sustainability</td>\n",
       "      <td>1645997735</td>\n",
       "    </tr>\n",
       "  </tbody>\n",
       "</table>\n",
       "</div>"
      ],
      "text/plain": [
       "   Unnamed: 0                                              title  \\\n",
       "0           0  I'm working on my first UX project about reduc...   \n",
       "1           1  I’m not quite sure what to say for this but I ...   \n",
       "2           2                       Self-Sustainable Communities   \n",
       "3           3           Great Barrier Reef: New Huge Coral Found   \n",
       "4           4          Drying Hands: Blow Drying or Paper Towels   \n",
       "\n",
       "                                            selftext       subreddit  \\\n",
       "0  Hi, I know this is annoying but this is my fir...  sustainability   \n",
       "1                                                NaN  sustainability   \n",
       "2  Over the past few years, I've been learning a ...  sustainability   \n",
       "3                                                NaN  sustainability   \n",
       "4                                          [removed]  sustainability   \n",
       "\n",
       "   created_utc  \n",
       "0   1646023113  \n",
       "1   1646021616  \n",
       "2   1646009146  \n",
       "3   1645999683  \n",
       "4   1645997735  "
      ]
     },
     "execution_count": 5,
     "metadata": {},
     "output_type": "execute_result"
    }
   ],
   "source": [
    "df=pd.read_csv('../../data/reddit_content_20220228-063053.csv')\n",
    "df.head()"
   ]
  },
  {
   "cell_type": "code",
   "execution_count": 6,
   "id": "5897b3e3-26e3-4f46-aa71-81d79e616410",
   "metadata": {},
   "outputs": [],
   "source": [
    "df.drop(columns='Unnamed: 0', inplace=True)\n",
    "\n",
    "df['subreddit'] = df['subreddit'].replace({'sustainability':1, 'academia':0})\n",
    "\n",
    "df['title_text'] = df['title'] + ' ' + df['selftext'].fillna('')\n",
    "\n",
    "X= df['title_text']\n",
    "y=df['subreddit']"
   ]
  },
  {
   "cell_type": "markdown",
   "id": "926256c6-d79a-4a07-beab-76653e715944",
   "metadata": {},
   "source": [
    "## Baseline"
   ]
  },
  {
   "cell_type": "code",
   "execution_count": 7,
   "id": "74902fd7-4c9c-40b2-bcd3-c7177b203021",
   "metadata": {},
   "outputs": [
    {
     "data": {
      "text/plain": [
       "0    0.503403\n",
       "1    0.496597\n",
       "Name: subreddit, dtype: float64"
      ]
     },
     "execution_count": 7,
     "metadata": {},
     "output_type": "execute_result"
    }
   ],
   "source": [
    "y.value_counts(normalize=True)"
   ]
  },
  {
   "cell_type": "markdown",
   "id": "c8f47e4b-6b50-40f6-bb72-c3cd377dd0bc",
   "metadata": {},
   "source": [
    "#### This model would predict every post to be from the academia subreddit and would be correct 50.3% of the time."
   ]
  },
  {
   "cell_type": "code",
   "execution_count": 8,
   "id": "dfba0d8d-c3fa-4aea-b661-17a187e2a699",
   "metadata": {},
   "outputs": [],
   "source": [
    "X_train, X_test, y_train, y_test = train_test_split(X, y, random_state=42, stratify=y)"
   ]
  },
  {
   "cell_type": "code",
   "execution_count": 9,
   "id": "fa04e34a-088a-42b7-91ee-e19f4bde275e",
   "metadata": {},
   "outputs": [],
   "source": [
    "pipe = Pipeline([\n",
    "    ('cvec', CountVectorizer()),\n",
    "    ('rf', RandomForestClassifier())\n",
    "    \n",
    "])"
   ]
  },
  {
   "cell_type": "code",
   "execution_count": null,
   "id": "a9d1e08d-9e2e-49e1-97a9-d32c1e716ca2",
   "metadata": {},
   "outputs": [],
   "source": [
    "#attempting different params. trial and error. hoping to get an accuracy greater than 94% from 02_model\n",
    "params = {\n",
    "    'cvec__stop_words': [None, 'english'],\n",
    "    #'cvec__min_df': [0.01, 0.02, 0.03, 5, 10], \n",
    "    'cvec__max_df': [1.0, .75, .5, .25],\n",
    "    'cvec__binary': [True, False],\n",
    "    'rf__n_estimators': [75, 100, 125, 150],\n",
    "    'rf__max_features' : [None, 'sqrt', 'log2', 3,6,9]\n",
    "    \n",
    "      #'cvec__strip_accents' : ['ascii', 'unicode', None]\n",
    "}\n",
    "\n",
    "gs = GridSearchCV(pipe,\n",
    "                  param_grid=params)\n",
    "gs.fit(X_train, y_train)\n",
    "print(gs.best_score_) # <- cross val score\n",
    "gs.best_params_"
   ]
  },
  {
   "cell_type": "code",
   "execution_count": null,
   "id": "445a23fd-90e5-44e0-8a10-9f1801cc76f6",
   "metadata": {},
   "outputs": [],
   "source": []
  },
  {
   "cell_type": "code",
   "execution_count": null,
   "id": "3de59729-297a-42e3-a895-78d0ee3d115e",
   "metadata": {},
   "outputs": [],
   "source": [
    "plot_confusion_matrix(gs, X_test, y_test, display_labels=['Academia', 'Sustainability'], cmap='cividis', colorbar=False);"
   ]
  },
  {
   "cell_type": "code",
   "execution_count": null,
   "id": "1e62ebf2-5eb2-46e6-964a-3f4c83e78b66",
   "metadata": {},
   "outputs": [],
   "source": [
    "#source: code from Tori Powers\n",
    "trainscore = gs.score(X_train, y_train)\n",
    "testscore = gs.score(X_test, y_test)\n",
    "crossval = cross_val_score(gs, X_train, y_train).mean()\n",
    "preds = gs.predict(X_test)\n",
    "tn, fp, fn, tp = metrics.confusion_matrix(y_test, preds).ravel()\n",
    "recall = metrics.recall_score(y_test, preds)\n",
    "precision = metrics.precision_score(y_test, preds)\n",
    "accuracy = testscore\n",
    "specificity = tn / (tn + fp)\n",
    "\n",
    "print (f'Train Score = {trainscore}')\n",
    "print (f'Test Score = {testscore}')\n",
    "print (f'Cross Val Score = {crossval}')\n",
    "print (f'Accuracy Score = {testscore}')\n",
    "print (f'Recall Score = {recall}')\n",
    "print (f'Precision Score = {precision}')\n",
    "print (f'Specificity Score = {specificity}')"
   ]
  },
  {
   "cell_type": "markdown",
   "id": "5c3e55ff-b701-4613-bd7e-727e68bf5b4e",
   "metadata": {},
   "source": [
    "## Evaluations"
   ]
  },
  {
   "cell_type": "markdown",
   "id": "b2e55655-938b-410f-b61c-50d4f521fbcf",
   "metadata": {},
   "source": [
    "Since this model has a low accuracy score of 90% in comparison to a previous models score of 94%, no further work will be done with this model."
   ]
  },
  {
   "cell_type": "code",
   "execution_count": null,
   "id": "26ea8d21-268d-4f9e-91e9-7c92790c27d9",
   "metadata": {},
   "outputs": [],
   "source": []
  }
 ],
 "metadata": {
  "kernelspec": {
   "display_name": "Python 3 (ipykernel)",
   "language": "python",
   "name": "python3"
  },
  "language_info": {
   "codemirror_mode": {
    "name": "ipython",
    "version": 3
   },
   "file_extension": ".py",
   "mimetype": "text/x-python",
   "name": "python",
   "nbconvert_exporter": "python",
   "pygments_lexer": "ipython3",
   "version": "3.9.7"
  }
 },
 "nbformat": 4,
 "nbformat_minor": 5
}
