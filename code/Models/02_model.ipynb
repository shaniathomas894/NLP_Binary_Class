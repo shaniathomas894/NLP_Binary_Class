{
 "cells": [
  {
   "cell_type": "markdown",
   "id": "a8243c9e-164d-49b2-b499-98372343db63",
   "metadata": {},
   "source": [
    "# Model Number 2: Using the Title to Predict the Subreddit"
   ]
  },
  {
   "cell_type": "markdown",
   "id": "c5a7b8da-d9e2-45e2-afd5-faf9fc5bf108",
   "metadata": {},
   "source": [
    "This model will be using \"Title\" as the features and logistic regression as the model. The EDA suggested there could be some promising results with this feature. At the end of this model, I hope to have a small percentage of misclassifications to explore."
   ]
  },
  {
   "cell_type": "code",
   "execution_count": 1,
   "id": "c6bd1758-13cc-4523-ae59-a843b6950c38",
   "metadata": {},
   "outputs": [],
   "source": [
    "import pandas as pd\n",
    "import numpy as np\n",
    "import seaborn as sns\n",
    "import matplotlib.pyplot as plt\n",
    "import sklearn.metrics as metrics\n",
    "\n",
    "from sklearn.linear_model import LogisticRegression\n",
    "from sklearn.feature_extraction.text import CountVectorizer, TfidfVectorizer\n",
    "from sklearn.pipeline import Pipeline\n",
    "from sklearn.model_selection import train_test_split, GridSearchCV, cross_val_score\n",
    "from sklearn.metrics import plot_confusion_matrix"
   ]
  },
  {
   "cell_type": "code",
   "execution_count": 2,
   "id": "a6a9acaa-a1b9-4a67-ab2a-02e048c6f16d",
   "metadata": {},
   "outputs": [
    {
     "data": {
      "text/html": [
       "<div>\n",
       "<style scoped>\n",
       "    .dataframe tbody tr th:only-of-type {\n",
       "        vertical-align: middle;\n",
       "    }\n",
       "\n",
       "    .dataframe tbody tr th {\n",
       "        vertical-align: top;\n",
       "    }\n",
       "\n",
       "    .dataframe thead th {\n",
       "        text-align: right;\n",
       "    }\n",
       "</style>\n",
       "<table border=\"1\" class=\"dataframe\">\n",
       "  <thead>\n",
       "    <tr style=\"text-align: right;\">\n",
       "      <th></th>\n",
       "      <th>title</th>\n",
       "      <th>selftext</th>\n",
       "      <th>subreddit</th>\n",
       "      <th>created_utc</th>\n",
       "    </tr>\n",
       "  </thead>\n",
       "  <tbody>\n",
       "    <tr>\n",
       "      <th>0</th>\n",
       "      <td>I'm working on my first UX project about reduc...</td>\n",
       "      <td>Hi, I know this is annoying but this is my fir...</td>\n",
       "      <td>sustainability</td>\n",
       "      <td>1646023113</td>\n",
       "    </tr>\n",
       "    <tr>\n",
       "      <th>1</th>\n",
       "      <td>I’m not quite sure what to say for this but I ...</td>\n",
       "      <td>NaN</td>\n",
       "      <td>sustainability</td>\n",
       "      <td>1646021616</td>\n",
       "    </tr>\n",
       "    <tr>\n",
       "      <th>2</th>\n",
       "      <td>Self-Sustainable Communities</td>\n",
       "      <td>Over the past few years, I've been learning a ...</td>\n",
       "      <td>sustainability</td>\n",
       "      <td>1646009146</td>\n",
       "    </tr>\n",
       "    <tr>\n",
       "      <th>3</th>\n",
       "      <td>Great Barrier Reef: New Huge Coral Found</td>\n",
       "      <td>NaN</td>\n",
       "      <td>sustainability</td>\n",
       "      <td>1645999683</td>\n",
       "    </tr>\n",
       "    <tr>\n",
       "      <th>4</th>\n",
       "      <td>Drying Hands: Blow Drying or Paper Towels</td>\n",
       "      <td>[removed]</td>\n",
       "      <td>sustainability</td>\n",
       "      <td>1645997735</td>\n",
       "    </tr>\n",
       "  </tbody>\n",
       "</table>\n",
       "</div>"
      ],
      "text/plain": [
       "                                               title  \\\n",
       "0  I'm working on my first UX project about reduc...   \n",
       "1  I’m not quite sure what to say for this but I ...   \n",
       "2                       Self-Sustainable Communities   \n",
       "3           Great Barrier Reef: New Huge Coral Found   \n",
       "4          Drying Hands: Blow Drying or Paper Towels   \n",
       "\n",
       "                                            selftext       subreddit  \\\n",
       "0  Hi, I know this is annoying but this is my fir...  sustainability   \n",
       "1                                                NaN  sustainability   \n",
       "2  Over the past few years, I've been learning a ...  sustainability   \n",
       "3                                                NaN  sustainability   \n",
       "4                                          [removed]  sustainability   \n",
       "\n",
       "   created_utc  \n",
       "0   1646023113  \n",
       "1   1646021616  \n",
       "2   1646009146  \n",
       "3   1645999683  \n",
       "4   1645997735  "
      ]
     },
     "execution_count": 2,
     "metadata": {},
     "output_type": "execute_result"
    }
   ],
   "source": [
    "df=pd.read_csv('./data/reddit_content_20220228-063053.csv')\n",
    "df.drop(columns='Unnamed: 0', inplace=True)\n",
    "df.head()"
   ]
  },
  {
   "cell_type": "markdown",
   "id": "dd820bac-e6ff-428d-9a6b-ab25ecf98012",
   "metadata": {},
   "source": [
    "### Quick clean up so the model has 0's and 1's being fed into it."
   ]
  },
  {
   "cell_type": "code",
   "execution_count": 3,
   "id": "58ffbb35-e92c-4ab0-abfe-edbd7b8497b0",
   "metadata": {},
   "outputs": [],
   "source": [
    "df['subreddit'] = df['subreddit'].replace({'sustainability':1, 'academia':0})"
   ]
  },
  {
   "cell_type": "code",
   "execution_count": 4,
   "id": "92d59117-07b3-4f52-9891-42efec180a94",
   "metadata": {},
   "outputs": [],
   "source": [
    "X= df['title']\n",
    "y=df['subreddit']"
   ]
  },
  {
   "cell_type": "markdown",
   "id": "1ebad3e4-0313-4260-81e8-549c1b4a7bf8",
   "metadata": {},
   "source": [
    "## Baseline"
   ]
  },
  {
   "cell_type": "code",
   "execution_count": 5,
   "id": "f175b30d-98c8-4f45-83af-d69ad9754307",
   "metadata": {},
   "outputs": [
    {
     "data": {
      "text/plain": [
       "0    0.503403\n",
       "1    0.496597\n",
       "Name: subreddit, dtype: float64"
      ]
     },
     "execution_count": 5,
     "metadata": {},
     "output_type": "execute_result"
    }
   ],
   "source": [
    "y.value_counts(normalize=True)"
   ]
  },
  {
   "cell_type": "markdown",
   "id": "fc95cfed-dd79-4d0e-984d-ffc032677098",
   "metadata": {},
   "source": [
    "#### This model would predict every post to be from the academia subreddit and would be correct 50.3% of the time."
   ]
  },
  {
   "cell_type": "code",
   "execution_count": 6,
   "id": "4a0f261a-cfc2-48b5-b7eb-8a4c0e6392ec",
   "metadata": {},
   "outputs": [],
   "source": [
    "X_train, X_test, y_train, y_test = train_test_split(X, y, random_state=42, stratify=y)"
   ]
  },
  {
   "cell_type": "code",
   "execution_count": 7,
   "id": "47254264-21c8-48b6-b280-f8dde02b0576",
   "metadata": {},
   "outputs": [],
   "source": [
    "pipe = Pipeline([\n",
    "    ('cvec', CountVectorizer()),\n",
    "    ('log', LogisticRegression(random_state=42))\n",
    "    \n",
    "])"
   ]
  },
  {
   "cell_type": "code",
   "execution_count": 8,
   "id": "c2e87f07-01f7-4a16-985d-53249c5147ec",
   "metadata": {},
   "outputs": [
    {
     "data": {
      "text/plain": [
       "(3967, 4)"
      ]
     },
     "execution_count": 8,
     "metadata": {},
     "output_type": "execute_result"
    }
   ],
   "source": [
    "df.shape"
   ]
  },
  {
   "cell_type": "code",
   "execution_count": 9,
   "id": "13f1ab38-b677-4e82-8550-b2b10a4cce3f",
   "metadata": {
    "tags": []
   },
   "outputs": [
    {
     "name": "stdout",
     "output_type": "stream",
     "text": [
      "0.9011764705882352\n"
     ]
    },
    {
     "data": {
      "text/plain": [
       "{'cvec__binary': True,\n",
       " 'cvec__max_df': 1.0,\n",
       " 'cvec__stop_words': 'english',\n",
       " 'log__penalty': 'l2'}"
      ]
     },
     "execution_count": 9,
     "metadata": {},
     "output_type": "execute_result"
    }
   ],
   "source": [
    "#play with different params. trial and error\n",
    "params = {\n",
    "     'cvec__stop_words': [None, 'english'],\n",
    "     'cvec__max_df': [1.0, .75, .5, .25],\n",
    "     'cvec__binary': [True, False],\n",
    "     'log__penalty': ['none', 'l2',],\n",
    "}\n",
    "\n",
    "gs = GridSearchCV(pipe,\n",
    "                  param_grid=params)\n",
    "gs.fit(X_train, y_train)\n",
    "print(gs.best_score_) # <- cross val score\n",
    "gs.best_params_"
   ]
  },
  {
   "cell_type": "markdown",
   "id": "c892edfa-209c-424d-bb0b-7aef05de3217",
   "metadata": {},
   "source": [
    "In this grid search, I am using a pipeline consisting of count vectorizing which is counting how many times a word/phrase appears within the corpus and therefore binarizing the words of the corpus, and then running that through a logistic regression model. During the grid search, the model is ran multiple times trying out the different parameters provided for both the count vectorizer and the logistic regression model. Once the grid search is finished, I'm able to see what the best accuracy score was that grid searching produced, and the parameters the grid search found that produced that score."
   ]
  },
  {
   "cell_type": "code",
   "execution_count": 10,
   "id": "6caef411-dad2-464a-9e11-40ac086cfc59",
   "metadata": {},
   "outputs": [
    {
     "data": {
      "image/png": "[encoded data removed]",
      "text/plain": [
       "<Figure size 432x288 with 1 Axes>"
      ]
     },
     "metadata": {
      "needs_background": "light"
     },
     "output_type": "display_data"
    }
   ],
   "source": [
    "plot_confusion_matrix(gs, X_test, y_test, display_labels=['Academia', 'Sustainability'], cmap='cividis', colorbar=False);"
   ]
  },
  {
   "cell_type": "markdown",
   "id": "a98a80fe-5e49-40a6-8f14-eb72229bdf91",
   "metadata": {},
   "source": [
    "This model has an accuracy score of 90.11%, and struggles in predicting the sustainability subreddit more frequently than it struggles to predict the academia subreddit. With a total of 70 false negatives and 22 false positives where sustainability is the positive class here. This makes for a total of 92 false predictions."
   ]
  },
  {
   "cell_type": "code",
   "execution_count": 11,
   "id": "4b5dedb7-b2cf-498c-a92b-daee52f1cbcd",
   "metadata": {},
   "outputs": [
    {
     "name": "stdout",
     "output_type": "stream",
     "text": [
      "Train Score = 0.9915966386554622\n",
      "Test Score = 0.907258064516129\n",
      "Cross Val Score = 0.9005042016806722\n",
      "Accuracy Score = 0.907258064516129\n",
      "Recall Score = 0.8580121703853956\n",
      "Precision Score = 0.950561797752809\n",
      "Specificity Score = 0.9559118236472945\n"
     ]
    }
   ],
   "source": [
    "trainscore = gs.score(X_train, y_train)\n",
    "testscore = gs.score(X_test, y_test)\n",
    "crossval = cross_val_score(gs, X_train, y_train).mean()\n",
    "preds = gs.predict(X_test)\n",
    "tn, fp, fn, tp = metrics.confusion_matrix(y_test, preds).ravel()\n",
    "recall = metrics.recall_score(y_test, preds)\n",
    "precision = metrics.precision_score(y_test, preds)\n",
    "accuracy = testscore\n",
    "specificity = tn / (tn + fp)\n",
    "\n",
    "print (f'Train Score = {trainscore}')\n",
    "print (f'Test Score = {testscore}')\n",
    "print (f'Cross Val Score = {crossval}')\n",
    "print (f'Accuracy Score = {testscore}')\n",
    "print (f'Recall Score = {recall}')\n",
    "print (f'Precision Score = {precision}')\n",
    "print (f'Specificity Score = {specificity}')"
   ]
  },
  {
   "cell_type": "markdown",
   "id": "ad22c6be-641f-404b-b96e-8b27dec582fa",
   "metadata": {},
   "source": [
    "I see a lot variance between the train, test, and cross val scores which means theres overfitting happening and needs some bias introduced and reduced features. Next step would be to further tune the Grid Search to include less features and hopefully less misclassifications (shown below with a total of 92 misclassifications)."
   ]
  },
  {
   "cell_type": "code",
   "execution_count": 12,
   "id": "1745ccf7-d94e-4575-9b32-7e56ccdff633",
   "metadata": {},
   "outputs": [
    {
     "data": {
      "text/html": [
       "<div>\n",
       "<style scoped>\n",
       "    .dataframe tbody tr th:only-of-type {\n",
       "        vertical-align: middle;\n",
       "    }\n",
       "\n",
       "    .dataframe tbody tr th {\n",
       "        vertical-align: top;\n",
       "    }\n",
       "\n",
       "    .dataframe thead th {\n",
       "        text-align: right;\n",
       "    }\n",
       "</style>\n",
       "<table border=\"1\" class=\"dataframe\">\n",
       "  <thead>\n",
       "    <tr style=\"text-align: right;\">\n",
       "      <th></th>\n",
       "      <th>0</th>\n",
       "    </tr>\n",
       "  </thead>\n",
       "  <tbody>\n",
       "    <tr>\n",
       "      <th>sustainability</th>\n",
       "      <td>3.813111</td>\n",
       "    </tr>\n",
       "    <tr>\n",
       "      <th>sustainable</th>\n",
       "      <td>3.608215</td>\n",
       "    </tr>\n",
       "    <tr>\n",
       "      <th>plastic</th>\n",
       "      <td>2.566082</td>\n",
       "    </tr>\n",
       "    <tr>\n",
       "      <th>climate</th>\n",
       "      <td>2.346146</td>\n",
       "    </tr>\n",
       "    <tr>\n",
       "      <th>carbon</th>\n",
       "      <td>2.099366</td>\n",
       "    </tr>\n",
       "    <tr>\n",
       "      <th>green</th>\n",
       "      <td>1.861947</td>\n",
       "    </tr>\n",
       "    <tr>\n",
       "      <th>change</th>\n",
       "      <td>1.601500</td>\n",
       "    </tr>\n",
       "    <tr>\n",
       "      <th>world</th>\n",
       "      <td>1.576961</td>\n",
       "    </tr>\n",
       "    <tr>\n",
       "      <th>waste</th>\n",
       "      <td>1.550937</td>\n",
       "    </tr>\n",
       "    <tr>\n",
       "      <th>environmental</th>\n",
       "      <td>1.521280</td>\n",
       "    </tr>\n",
       "  </tbody>\n",
       "</table>\n",
       "</div>"
      ],
      "text/plain": [
       "                       0\n",
       "sustainability  3.813111\n",
       "sustainable     3.608215\n",
       "plastic         2.566082\n",
       "climate         2.346146\n",
       "carbon          2.099366\n",
       "green           1.861947\n",
       "change          1.601500\n",
       "world           1.576961\n",
       "waste           1.550937\n",
       "environmental   1.521280"
      ]
     },
     "execution_count": 12,
     "metadata": {},
     "output_type": "execute_result"
    }
   ],
   "source": [
    "coefs = pd.DataFrame(pd.Series(gs.best_estimator_.named_steps['log'].coef_[0], index = gs.best_estimator_.named_steps['cvec'].get_feature_names()).sort_values(ascending = False)).head(10)\n",
    "coefs"
   ]
  },
  {
   "cell_type": "markdown",
   "id": "c6d3c4fa-4746-4705-bb87-10315a89c4f4",
   "metadata": {},
   "source": [
    "The first data frame is showing which features/tokens had the greatest effect on the model. Most of these words would make most humans, myself included, think \"Sustainable\" before thinking \"Academia\" which would also lead to why the model does better at predicting the sustainability subreddit."
   ]
  },
  {
   "cell_type": "code",
   "execution_count": 13,
   "id": "9681aeb4-1089-48c8-8d04-a111ff5a0d67",
   "metadata": {},
   "outputs": [
    {
     "data": {
      "text/html": [
       "<div>\n",
       "<style scoped>\n",
       "    .dataframe tbody tr th:only-of-type {\n",
       "        vertical-align: middle;\n",
       "    }\n",
       "\n",
       "    .dataframe tbody tr th {\n",
       "        vertical-align: top;\n",
       "    }\n",
       "\n",
       "    .dataframe thead th {\n",
       "        text-align: right;\n",
       "    }\n",
       "</style>\n",
       "<table border=\"1\" class=\"dataframe\">\n",
       "  <thead>\n",
       "    <tr style=\"text-align: right;\">\n",
       "      <th></th>\n",
       "      <th>0</th>\n",
       "    </tr>\n",
       "  </thead>\n",
       "  <tbody>\n",
       "    <tr>\n",
       "      <th>publication</th>\n",
       "      <td>-1.485804</td>\n",
       "    </tr>\n",
       "    <tr>\n",
       "      <th>article</th>\n",
       "      <td>-1.564991</td>\n",
       "    </tr>\n",
       "    <tr>\n",
       "      <th>science</th>\n",
       "      <td>-1.613598</td>\n",
       "    </tr>\n",
       "    <tr>\n",
       "      <th>professor</th>\n",
       "      <td>-1.808880</td>\n",
       "    </tr>\n",
       "    <tr>\n",
       "      <th>journal</th>\n",
       "      <td>-1.879099</td>\n",
       "    </tr>\n",
       "    <tr>\n",
       "      <th>postdoc</th>\n",
       "      <td>-1.885779</td>\n",
       "    </tr>\n",
       "    <tr>\n",
       "      <th>research</th>\n",
       "      <td>-2.010196</td>\n",
       "    </tr>\n",
       "    <tr>\n",
       "      <th>academic</th>\n",
       "      <td>-2.312097</td>\n",
       "    </tr>\n",
       "    <tr>\n",
       "      <th>phd</th>\n",
       "      <td>-2.635659</td>\n",
       "    </tr>\n",
       "    <tr>\n",
       "      <th>academia</th>\n",
       "      <td>-2.727214</td>\n",
       "    </tr>\n",
       "  </tbody>\n",
       "</table>\n",
       "</div>"
      ],
      "text/plain": [
       "                    0\n",
       "publication -1.485804\n",
       "article     -1.564991\n",
       "science     -1.613598\n",
       "professor   -1.808880\n",
       "journal     -1.879099\n",
       "postdoc     -1.885779\n",
       "research    -2.010196\n",
       "academic    -2.312097\n",
       "phd         -2.635659\n",
       "academia    -2.727214"
      ]
     },
     "execution_count": 13,
     "metadata": {},
     "output_type": "execute_result"
    }
   ],
   "source": [
    "coefs = pd.DataFrame(pd.Series(gs.best_estimator_.named_steps['log'].coef_[0], index = gs.best_estimator_.named_steps['cvec'].get_feature_names()).sort_values(ascending = False)).tail(10)\n",
    "coefs"
   ]
  },
  {
   "cell_type": "markdown",
   "id": "1345383d-453d-4d03-9d2a-7c653f6266df",
   "metadata": {},
   "source": [
    "# second df. words that turned it off from sust. (positive class). makes complete sense to me"
   ]
  },
  {
   "cell_type": "code",
   "execution_count": 14,
   "id": "54af0ecd-d887-4f1c-9775-600e4d801973",
   "metadata": {},
   "outputs": [
    {
     "data": {
      "text/plain": [
       "347     For those of you who switched to a bidet, was ...\n",
       "1083    Who owns the algorithms? Netflix staff protest...\n",
       "955     FlyZero: Liquid Hydrogen-Powered Plane Receive...\n",
       "629     Deets On the January 6th Insurrection Anniversary\n",
       "1026                  Stressed about Latex Gloves at Work\n",
       "                              ...                        \n",
       "1007                                    Chicagoland Peeps\n",
       "454            Scientific Journal Megathread - by subject\n",
       "664                   Do everyone a favor: run for office\n",
       "677     What would you do if you'd 50 million dollars,...\n",
       "340                   We need to do something about this!\n",
       "Name: title, Length: 92, dtype: object"
      ]
     },
     "execution_count": 14,
     "metadata": {},
     "output_type": "execute_result"
    }
   ],
   "source": [
    "X_test[y_test != preds] \n"
   ]
  },
  {
   "cell_type": "markdown",
   "id": "9f103a62-d514-4e6d-907c-1428f0ca72ac",
   "metadata": {},
   "source": [
    "#### The dataframe below shows the feature, title in this model, the subreddit the post actually belonged to and where it was predicted to belong to, the probability the logistic regression model calculated to determine which subreddit the post belonged to, and the margin of unsureness represented in the difference of the two probabilities. This data frame is the correct and icncorrect predictions of the test set."
   ]
  },
  {
   "cell_type": "code",
   "execution_count": 15,
   "id": "d6ec69a1-28b5-4b90-880d-359d63168d79",
   "metadata": {},
   "outputs": [
    {
     "data": {
      "text/html": [
       "<div>\n",
       "<style scoped>\n",
       "    .dataframe tbody tr th:only-of-type {\n",
       "        vertical-align: middle;\n",
       "    }\n",
       "\n",
       "    .dataframe tbody tr th {\n",
       "        vertical-align: top;\n",
       "    }\n",
       "\n",
       "    .dataframe thead th {\n",
       "        text-align: right;\n",
       "    }\n",
       "</style>\n",
       "<table border=\"1\" class=\"dataframe\">\n",
       "  <thead>\n",
       "    <tr style=\"text-align: right;\">\n",
       "      <th></th>\n",
       "      <th>title</th>\n",
       "      <th>actual</th>\n",
       "      <th>predicted</th>\n",
       "      <th>P(r/Academia)</th>\n",
       "      <th>P(r/Sustainability)</th>\n",
       "      <th>Prob Diff</th>\n",
       "    </tr>\n",
       "  </thead>\n",
       "  <tbody>\n",
       "    <tr>\n",
       "      <th>3808</th>\n",
       "      <td>Grad international students in new country</td>\n",
       "      <td>0</td>\n",
       "      <td>0</td>\n",
       "      <td>0.714309</td>\n",
       "      <td>0.285691</td>\n",
       "      <td>0.428618</td>\n",
       "    </tr>\n",
       "    <tr>\n",
       "      <th>494</th>\n",
       "      <td>Solarpunk: The Power of an Aesthetic</td>\n",
       "      <td>1</td>\n",
       "      <td>1</td>\n",
       "      <td>0.287701</td>\n",
       "      <td>0.712299</td>\n",
       "      <td>0.424599</td>\n",
       "    </tr>\n",
       "    <tr>\n",
       "      <th>3765</th>\n",
       "      <td>Revisiting: Balancing Author Satisfaction with...</td>\n",
       "      <td>0</td>\n",
       "      <td>0</td>\n",
       "      <td>0.860815</td>\n",
       "      <td>0.139185</td>\n",
       "      <td>0.721630</td>\n",
       "    </tr>\n",
       "    <tr>\n",
       "      <th>1181</th>\n",
       "      <td>Clean Water... 4Earth</td>\n",
       "      <td>1</td>\n",
       "      <td>1</td>\n",
       "      <td>0.099835</td>\n",
       "      <td>0.900165</td>\n",
       "      <td>0.800331</td>\n",
       "    </tr>\n",
       "    <tr>\n",
       "      <th>2287</th>\n",
       "      <td>Paying for co-authorship</td>\n",
       "      <td>0</td>\n",
       "      <td>0</td>\n",
       "      <td>0.747530</td>\n",
       "      <td>0.252470</td>\n",
       "      <td>0.495060</td>\n",
       "    </tr>\n",
       "    <tr>\n",
       "      <th>...</th>\n",
       "      <td>...</td>\n",
       "      <td>...</td>\n",
       "      <td>...</td>\n",
       "      <td>...</td>\n",
       "      <td>...</td>\n",
       "      <td>...</td>\n",
       "    </tr>\n",
       "    <tr>\n",
       "      <th>2695</th>\n",
       "      <td>Don’t you just enjoy when predatory journals s...</td>\n",
       "      <td>0</td>\n",
       "      <td>0</td>\n",
       "      <td>0.900494</td>\n",
       "      <td>0.099506</td>\n",
       "      <td>0.800989</td>\n",
       "    </tr>\n",
       "    <tr>\n",
       "      <th>1971</th>\n",
       "      <td>Example of Retrospective chart review protocol...</td>\n",
       "      <td>0</td>\n",
       "      <td>0</td>\n",
       "      <td>0.817201</td>\n",
       "      <td>0.182799</td>\n",
       "      <td>0.634403</td>\n",
       "    </tr>\n",
       "    <tr>\n",
       "      <th>3623</th>\n",
       "      <td>Publishing A Paper? Here are 7 Types Of Peer R...</td>\n",
       "      <td>0</td>\n",
       "      <td>0</td>\n",
       "      <td>0.976604</td>\n",
       "      <td>0.023396</td>\n",
       "      <td>0.953207</td>\n",
       "    </tr>\n",
       "    <tr>\n",
       "      <th>2068</th>\n",
       "      <td>How do you find good research partnerships in ...</td>\n",
       "      <td>0</td>\n",
       "      <td>0</td>\n",
       "      <td>0.906982</td>\n",
       "      <td>0.093018</td>\n",
       "      <td>0.813964</td>\n",
       "    </tr>\n",
       "    <tr>\n",
       "      <th>3735</th>\n",
       "      <td>What is Academic Writing — Everything You Need...</td>\n",
       "      <td>0</td>\n",
       "      <td>0</td>\n",
       "      <td>0.982123</td>\n",
       "      <td>0.017877</td>\n",
       "      <td>0.964247</td>\n",
       "    </tr>\n",
       "  </tbody>\n",
       "</table>\n",
       "<p>992 rows × 6 columns</p>\n",
       "</div>"
      ],
      "text/plain": [
       "                                                  title  actual  predicted  \\\n",
       "3808         Grad international students in new country       0          0   \n",
       "494                Solarpunk: The Power of an Aesthetic       1          1   \n",
       "3765  Revisiting: Balancing Author Satisfaction with...       0          0   \n",
       "1181                              Clean Water... 4Earth       1          1   \n",
       "2287                           Paying for co-authorship       0          0   \n",
       "...                                                 ...     ...        ...   \n",
       "2695  Don’t you just enjoy when predatory journals s...       0          0   \n",
       "1971  Example of Retrospective chart review protocol...       0          0   \n",
       "3623  Publishing A Paper? Here are 7 Types Of Peer R...       0          0   \n",
       "2068  How do you find good research partnerships in ...       0          0   \n",
       "3735  What is Academic Writing — Everything You Need...       0          0   \n",
       "\n",
       "      P(r/Academia)  P(r/Sustainability)  Prob Diff  \n",
       "3808       0.714309             0.285691   0.428618  \n",
       "494        0.287701             0.712299   0.424599  \n",
       "3765       0.860815             0.139185   0.721630  \n",
       "1181       0.099835             0.900165   0.800331  \n",
       "2287       0.747530             0.252470   0.495060  \n",
       "...             ...                  ...        ...  \n",
       "2695       0.900494             0.099506   0.800989  \n",
       "1971       0.817201             0.182799   0.634403  \n",
       "3623       0.976604             0.023396   0.953207  \n",
       "2068       0.906982             0.093018   0.813964  \n",
       "3735       0.982123             0.017877   0.964247  \n",
       "\n",
       "[992 rows x 6 columns]"
      ]
     },
     "execution_count": 15,
     "metadata": {},
     "output_type": "execute_result"
    }
   ],
   "source": [
    "preds_df = pd.DataFrame({\n",
    "    'title' : X_test, \n",
    "    'actual' : y_test, \n",
    "    'predicted' : gs.predict(X_test),\n",
    "    'P(r/Academia)' : [i[0] for i in gs.predict_proba(X_test)],\n",
    "    'P(r/Sustainability)' : [i[1] for i in gs.predict_proba(X_test)]})\n",
    "preds_df['Prob Diff'] = np.abs(preds_df['P(r/Sustainability)'] - preds_df['P(r/Academia)'])\n",
    "preds_df"
   ]
  },
  {
   "cell_type": "markdown",
   "id": "2aed62de-b1a9-47cc-b496-26cc27479322",
   "metadata": {},
   "source": [
    "#### The dataframe below shows the feature, title_text, the subreddit the post actually belonged to and where it was predicted to belong to, the probability the logistic regression model calculated to determine which subreddit the post belonged to, and the margin of unsureness represented in the difference of the two probabilities. This data frame is only the incorrect predictions of the test set."
   ]
  },
  {
   "cell_type": "code",
   "execution_count": 16,
   "id": "c428cd89-9e37-439b-b272-a50fd86c47a4",
   "metadata": {},
   "outputs": [
    {
     "data": {
      "text/html": [
       "<div>\n",
       "<style scoped>\n",
       "    .dataframe tbody tr th:only-of-type {\n",
       "        vertical-align: middle;\n",
       "    }\n",
       "\n",
       "    .dataframe tbody tr th {\n",
       "        vertical-align: top;\n",
       "    }\n",
       "\n",
       "    .dataframe thead th {\n",
       "        text-align: right;\n",
       "    }\n",
       "</style>\n",
       "<table border=\"1\" class=\"dataframe\">\n",
       "  <thead>\n",
       "    <tr style=\"text-align: right;\">\n",
       "      <th></th>\n",
       "      <th>title</th>\n",
       "      <th>actual</th>\n",
       "      <th>predicted</th>\n",
       "      <th>P(r/Academia)</th>\n",
       "      <th>P(r/Sustainability)</th>\n",
       "      <th>Prob Diff</th>\n",
       "    </tr>\n",
       "  </thead>\n",
       "  <tbody>\n",
       "    <tr>\n",
       "      <th>1026</th>\n",
       "      <td>Stressed about Latex Gloves at Work</td>\n",
       "      <td>1</td>\n",
       "      <td>0</td>\n",
       "      <td>0.822107</td>\n",
       "      <td>0.177893</td>\n",
       "      <td>0.644213</td>\n",
       "    </tr>\n",
       "    <tr>\n",
       "      <th>344</th>\n",
       "      <td>[Newsletter Update] They tryna cut our lights out like we don't live here - an article about purchasing practices in the apparel industry</td>\n",
       "      <td>1</td>\n",
       "      <td>0</td>\n",
       "      <td>0.766075</td>\n",
       "      <td>0.233925</td>\n",
       "      <td>0.532150</td>\n",
       "    </tr>\n",
       "    <tr>\n",
       "      <th>3380</th>\n",
       "      <td>Let's change the culture!</td>\n",
       "      <td>0</td>\n",
       "      <td>1</td>\n",
       "      <td>0.229203</td>\n",
       "      <td>0.770797</td>\n",
       "      <td>0.541594</td>\n",
       "    </tr>\n",
       "    <tr>\n",
       "      <th>2899</th>\n",
       "      <td>Indigenous sidlined on how to handle climate change at COP26 | Academia prefers to preach to the choir, always with their back to the congregation for a sermon that'd rather not start</td>\n",
       "      <td>0</td>\n",
       "      <td>1</td>\n",
       "      <td>0.050985</td>\n",
       "      <td>0.949015</td>\n",
       "      <td>0.898030</td>\n",
       "    </tr>\n",
       "    <tr>\n",
       "      <th>197</th>\n",
       "      <td>I work in natural resources conservation. Our office manager ordered stamps. Before this, they ALWAYS came as loose sheets inside a paper envelope. This time they’re like this. That they’re Earth Day stamps makes it even worse.</td>\n",
       "      <td>1</td>\n",
       "      <td>0</td>\n",
       "      <td>0.776037</td>\n",
       "      <td>0.223963</td>\n",
       "      <td>0.552073</td>\n",
       "    </tr>\n",
       "  </tbody>\n",
       "</table>\n",
       "</div>"
      ],
      "text/plain": [
       "                                                                                                                                                                                                                                    title  \\\n",
       "1026                                                                                                                                                                                                  Stressed about Latex Gloves at Work   \n",
       "344                                                                                             [Newsletter Update] They tryna cut our lights out like we don't live here - an article about purchasing practices in the apparel industry   \n",
       "3380                                                                                                                                                                                                            Let's change the culture!   \n",
       "2899                                              Indigenous sidlined on how to handle climate change at COP26 | Academia prefers to preach to the choir, always with their back to the congregation for a sermon that'd rather not start   \n",
       "197   I work in natural resources conservation. Our office manager ordered stamps. Before this, they ALWAYS came as loose sheets inside a paper envelope. This time they’re like this. That they’re Earth Day stamps makes it even worse.   \n",
       "\n",
       "      actual  predicted  P(r/Academia)  P(r/Sustainability)  Prob Diff  \n",
       "1026       1          0       0.822107             0.177893   0.644213  \n",
       "344        1          0       0.766075             0.233925   0.532150  \n",
       "3380       0          1       0.229203             0.770797   0.541594  \n",
       "2899       0          1       0.050985             0.949015   0.898030  \n",
       "197        1          0       0.776037             0.223963   0.552073  "
      ]
     },
     "execution_count": 16,
     "metadata": {},
     "output_type": "execute_result"
    }
   ],
   "source": [
    "pd.set_option('display.max_colwidth', None)\n",
    "wrong_preds_df = preds_df[preds_df['actual']!=preds_df['predicted']]\n",
    "very_wrong_preds_df = wrong_preds_df[wrong_preds_df['Prob Diff']>0.5]\n",
    "very_wrong_preds_df.head()"
   ]
  },
  {
   "cell_type": "markdown",
   "id": "18056a21-a257-4da5-8cf6-82406750fe07",
   "metadata": {},
   "source": [
    "#### The below dataframe sorts the previous dataframe with the first posts being the ones the model felt most sure about, but was wrong."
   ]
  },
  {
   "cell_type": "code",
   "execution_count": 17,
   "id": "c9f034cc-333f-4e19-b10d-8f1aa1839e06",
   "metadata": {},
   "outputs": [
    {
     "data": {
      "text/html": [
       "<div>\n",
       "<style scoped>\n",
       "    .dataframe tbody tr th:only-of-type {\n",
       "        vertical-align: middle;\n",
       "    }\n",
       "\n",
       "    .dataframe tbody tr th {\n",
       "        vertical-align: top;\n",
       "    }\n",
       "\n",
       "    .dataframe thead th {\n",
       "        text-align: right;\n",
       "    }\n",
       "</style>\n",
       "<table border=\"1\" class=\"dataframe\">\n",
       "  <thead>\n",
       "    <tr style=\"text-align: right;\">\n",
       "      <th></th>\n",
       "      <th>title</th>\n",
       "      <th>actual</th>\n",
       "      <th>predicted</th>\n",
       "      <th>P(r/Academia)</th>\n",
       "      <th>P(r/Sustainability)</th>\n",
       "      <th>Prob Diff</th>\n",
       "    </tr>\n",
       "  </thead>\n",
       "  <tbody>\n",
       "    <tr>\n",
       "      <th>2175</th>\n",
       "      <td>10 second video for climate change project</td>\n",
       "      <td>0</td>\n",
       "      <td>1</td>\n",
       "      <td>0.020019</td>\n",
       "      <td>0.979981</td>\n",
       "      <td>0.959962</td>\n",
       "    </tr>\n",
       "    <tr>\n",
       "      <th>1622</th>\n",
       "      <td>Computer science college student interested in volunteering</td>\n",
       "      <td>1</td>\n",
       "      <td>0</td>\n",
       "      <td>0.959817</td>\n",
       "      <td>0.040183</td>\n",
       "      <td>0.919634</td>\n",
       "    </tr>\n",
       "    <tr>\n",
       "      <th>454</th>\n",
       "      <td>Scientific Journal Megathread - by subject</td>\n",
       "      <td>1</td>\n",
       "      <td>0</td>\n",
       "      <td>0.958059</td>\n",
       "      <td>0.041941</td>\n",
       "      <td>0.916118</td>\n",
       "    </tr>\n",
       "    <tr>\n",
       "      <th>2899</th>\n",
       "      <td>Indigenous sidlined on how to handle climate change at COP26 | Academia prefers to preach to the choir, always with their back to the congregation for a sermon that'd rather not start</td>\n",
       "      <td>0</td>\n",
       "      <td>1</td>\n",
       "      <td>0.050985</td>\n",
       "      <td>0.949015</td>\n",
       "      <td>0.898030</td>\n",
       "    </tr>\n",
       "    <tr>\n",
       "      <th>1784</th>\n",
       "      <td>Free online magazine of possible interest...</td>\n",
       "      <td>1</td>\n",
       "      <td>0</td>\n",
       "      <td>0.894148</td>\n",
       "      <td>0.105852</td>\n",
       "      <td>0.788297</td>\n",
       "    </tr>\n",
       "  </tbody>\n",
       "</table>\n",
       "</div>"
      ],
      "text/plain": [
       "                                                                                                                                                                                        title  \\\n",
       "2175                                                                                                                                               10 second video for climate change project   \n",
       "1622                                                                                                                              Computer science college student interested in volunteering   \n",
       "454                                                                                                                                                Scientific Journal Megathread - by subject   \n",
       "2899  Indigenous sidlined on how to handle climate change at COP26 | Academia prefers to preach to the choir, always with their back to the congregation for a sermon that'd rather not start   \n",
       "1784                                                                                                                                             Free online magazine of possible interest...   \n",
       "\n",
       "      actual  predicted  P(r/Academia)  P(r/Sustainability)  Prob Diff  \n",
       "2175       0          1       0.020019             0.979981   0.959962  \n",
       "1622       1          0       0.959817             0.040183   0.919634  \n",
       "454        1          0       0.958059             0.041941   0.916118  \n",
       "2899       0          1       0.050985             0.949015   0.898030  \n",
       "1784       1          0       0.894148             0.105852   0.788297  "
      ]
     },
     "execution_count": 17,
     "metadata": {},
     "output_type": "execute_result"
    }
   ],
   "source": [
    "wrong_preds_df.sort_values(by='Prob Diff', ascending=False).head()"
   ]
  },
  {
   "cell_type": "markdown",
   "id": "56a4651c-278e-4ff1-9324-5b2dc1f0090a",
   "metadata": {},
   "source": [
    "## Evaluations:"
   ]
  },
  {
   "cell_type": "markdown",
   "id": "ba21e785-1ff6-43ef-9e38-1945b42645c0",
   "metadata": {},
   "source": [
    "This model is performing well, but to further answer my question which involves exploring the misclassifications, I believe I can create a model that is more accurate and will provide more concrete paths to understanding why posts are being misclassified, in hopes that it's because the language between the posts are too similar meaning there _is_ conversation about sustainability happening within academia. "
   ]
  },
  {
   "cell_type": "markdown",
   "id": "d92e9881-faa0-401e-b877-05e5432d63f4",
   "metadata": {},
   "source": []
  }
 ],
 "metadata": {
  "kernelspec": {
   "display_name": "Python 3 (ipykernel)",
   "language": "python",
   "name": "python3"
  },
  "language_info": {
   "codemirror_mode": {
    "name": "ipython",
    "version": 3
   },
   "file_extension": ".py",
   "mimetype": "text/x-python",
   "name": "python",
   "nbconvert_exporter": "python",
   "pygments_lexer": "ipython3",
   "version": "3.9.7"
  }
 },
 "nbformat": 4,
 "nbformat_minor": 5
}
