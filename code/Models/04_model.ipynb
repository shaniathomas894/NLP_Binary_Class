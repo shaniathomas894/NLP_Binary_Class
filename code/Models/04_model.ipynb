{
 "cells": [
  {
   "cell_type": "markdown",
   "id": "c5a7b8da-d9e2-45e2-afd5-faf9fc5bf108",
   "metadata": {},
   "source": [
    "### This second model will be using the engineered \"title_text\" column, a concatenation of the title and self text of the post, as the features and logistic regression as the model. The EDA suggested there could be some promising results with this feature."
   ]
  },
  {
   "cell_type": "code",
   "execution_count": 6,
   "id": "c6bd1758-13cc-4523-ae59-a843b6950c38",
   "metadata": {},
   "outputs": [],
   "source": [
    "import pandas as pd\n",
    "import numpy as np\n",
    "import seaborn as sns\n",
    "import matplotlib.pyplot as plt\n",
    "import sklearn.metrics as metrics\n",
    "\n",
    "from sklearn.linear_model import LogisticRegression\n",
    "from sklearn.feature_extraction.text import CountVectorizer, TfidfVectorizer\n",
    "from sklearn.pipeline import Pipeline\n",
    "from sklearn.model_selection import train_test_split, GridSearchCV, cross_val_score\n",
    "from sklearn.metrics import plot_confusion_matrix\n",
    "\n",
    "from nltk.stem import WordNetLemmatizer, PorterStemmer"
   ]
  },
  {
   "cell_type": "code",
   "execution_count": 7,
   "id": "a6a9acaa-a1b9-4a67-ab2a-02e048c6f16d",
   "metadata": {},
   "outputs": [
    {
     "data": {
      "text/html": [
       "<div>\n",
       "<style scoped>\n",
       "    .dataframe tbody tr th:only-of-type {\n",
       "        vertical-align: middle;\n",
       "    }\n",
       "\n",
       "    .dataframe tbody tr th {\n",
       "        vertical-align: top;\n",
       "    }\n",
       "\n",
       "    .dataframe thead th {\n",
       "        text-align: right;\n",
       "    }\n",
       "</style>\n",
       "<table border=\"1\" class=\"dataframe\">\n",
       "  <thead>\n",
       "    <tr style=\"text-align: right;\">\n",
       "      <th></th>\n",
       "      <th>Unnamed: 0</th>\n",
       "      <th>title</th>\n",
       "      <th>selftext</th>\n",
       "      <th>subreddit</th>\n",
       "      <th>created_utc</th>\n",
       "    </tr>\n",
       "  </thead>\n",
       "  <tbody>\n",
       "    <tr>\n",
       "      <th>0</th>\n",
       "      <td>0</td>\n",
       "      <td>I'm working on my first UX project about reduc...</td>\n",
       "      <td>Hi, I know this is annoying but this is my fir...</td>\n",
       "      <td>sustainability</td>\n",
       "      <td>1646023113</td>\n",
       "    </tr>\n",
       "    <tr>\n",
       "      <th>1</th>\n",
       "      <td>1</td>\n",
       "      <td>I’m not quite sure what to say for this but I ...</td>\n",
       "      <td>NaN</td>\n",
       "      <td>sustainability</td>\n",
       "      <td>1646021616</td>\n",
       "    </tr>\n",
       "    <tr>\n",
       "      <th>2</th>\n",
       "      <td>2</td>\n",
       "      <td>Self-Sustainable Communities</td>\n",
       "      <td>Over the past few years, I've been learning a ...</td>\n",
       "      <td>sustainability</td>\n",
       "      <td>1646009146</td>\n",
       "    </tr>\n",
       "    <tr>\n",
       "      <th>3</th>\n",
       "      <td>3</td>\n",
       "      <td>Great Barrier Reef: New Huge Coral Found</td>\n",
       "      <td>NaN</td>\n",
       "      <td>sustainability</td>\n",
       "      <td>1645999683</td>\n",
       "    </tr>\n",
       "    <tr>\n",
       "      <th>4</th>\n",
       "      <td>4</td>\n",
       "      <td>Drying Hands: Blow Drying or Paper Towels</td>\n",
       "      <td>[removed]</td>\n",
       "      <td>sustainability</td>\n",
       "      <td>1645997735</td>\n",
       "    </tr>\n",
       "  </tbody>\n",
       "</table>\n",
       "</div>"
      ],
      "text/plain": [
       "   Unnamed: 0                                              title  \\\n",
       "0           0  I'm working on my first UX project about reduc...   \n",
       "1           1  I’m not quite sure what to say for this but I ...   \n",
       "2           2                       Self-Sustainable Communities   \n",
       "3           3           Great Barrier Reef: New Huge Coral Found   \n",
       "4           4          Drying Hands: Blow Drying or Paper Towels   \n",
       "\n",
       "                                            selftext       subreddit  \\\n",
       "0  Hi, I know this is annoying but this is my fir...  sustainability   \n",
       "1                                                NaN  sustainability   \n",
       "2  Over the past few years, I've been learning a ...  sustainability   \n",
       "3                                                NaN  sustainability   \n",
       "4                                          [removed]  sustainability   \n",
       "\n",
       "   created_utc  \n",
       "0   1646023113  \n",
       "1   1646021616  \n",
       "2   1646009146  \n",
       "3   1645999683  \n",
       "4   1645997735  "
      ]
     },
     "execution_count": 7,
     "metadata": {},
     "output_type": "execute_result"
    }
   ],
   "source": [
    "df=pd.read_csv('../../data/reddit_content_20220228-063053.csv')\n",
    "df.head()"
   ]
  },
  {
   "cell_type": "code",
   "execution_count": 8,
   "id": "2bc2dc2d-0026-4711-a1b3-6d5c0e03a857",
   "metadata": {},
   "outputs": [
    {
     "data": {
      "text/html": [
       "<div>\n",
       "<style scoped>\n",
       "    .dataframe tbody tr th:only-of-type {\n",
       "        vertical-align: middle;\n",
       "    }\n",
       "\n",
       "    .dataframe tbody tr th {\n",
       "        vertical-align: top;\n",
       "    }\n",
       "\n",
       "    .dataframe thead th {\n",
       "        text-align: right;\n",
       "    }\n",
       "</style>\n",
       "<table border=\"1\" class=\"dataframe\">\n",
       "  <thead>\n",
       "    <tr style=\"text-align: right;\">\n",
       "      <th></th>\n",
       "      <th>Unnamed: 0</th>\n",
       "      <th>title</th>\n",
       "      <th>selftext</th>\n",
       "      <th>subreddit</th>\n",
       "      <th>created_utc</th>\n",
       "    </tr>\n",
       "  </thead>\n",
       "  <tbody>\n",
       "    <tr>\n",
       "      <th>0</th>\n",
       "      <td>0</td>\n",
       "      <td>I'm working on my first UX project about reduc...</td>\n",
       "      <td>Hi, I know this is annoying but this is my fir...</td>\n",
       "      <td>sustainability</td>\n",
       "      <td>1646023113</td>\n",
       "    </tr>\n",
       "    <tr>\n",
       "      <th>1</th>\n",
       "      <td>1</td>\n",
       "      <td>I’m not quite sure what to say for this but I ...</td>\n",
       "      <td>NaN</td>\n",
       "      <td>sustainability</td>\n",
       "      <td>1646021616</td>\n",
       "    </tr>\n",
       "    <tr>\n",
       "      <th>2</th>\n",
       "      <td>2</td>\n",
       "      <td>Self-Sustainable Communities</td>\n",
       "      <td>Over the past few years, I've been learning a ...</td>\n",
       "      <td>sustainability</td>\n",
       "      <td>1646009146</td>\n",
       "    </tr>\n",
       "    <tr>\n",
       "      <th>3</th>\n",
       "      <td>3</td>\n",
       "      <td>Great Barrier Reef: New Huge Coral Found</td>\n",
       "      <td>NaN</td>\n",
       "      <td>sustainability</td>\n",
       "      <td>1645999683</td>\n",
       "    </tr>\n",
       "    <tr>\n",
       "      <th>4</th>\n",
       "      <td>4</td>\n",
       "      <td>Drying Hands: Blow Drying or Paper Towels</td>\n",
       "      <td>[removed]</td>\n",
       "      <td>sustainability</td>\n",
       "      <td>1645997735</td>\n",
       "    </tr>\n",
       "  </tbody>\n",
       "</table>\n",
       "</div>"
      ],
      "text/plain": [
       "   Unnamed: 0                                              title  \\\n",
       "0           0  I'm working on my first UX project about reduc...   \n",
       "1           1  I’m not quite sure what to say for this but I ...   \n",
       "2           2                       Self-Sustainable Communities   \n",
       "3           3           Great Barrier Reef: New Huge Coral Found   \n",
       "4           4          Drying Hands: Blow Drying or Paper Towels   \n",
       "\n",
       "                                            selftext       subreddit  \\\n",
       "0  Hi, I know this is annoying but this is my fir...  sustainability   \n",
       "1                                                NaN  sustainability   \n",
       "2  Over the past few years, I've been learning a ...  sustainability   \n",
       "3                                                NaN  sustainability   \n",
       "4                                          [removed]  sustainability   \n",
       "\n",
       "   created_utc  \n",
       "0   1646023113  \n",
       "1   1646021616  \n",
       "2   1646009146  \n",
       "3   1645999683  \n",
       "4   1645997735  "
      ]
     },
     "execution_count": 8,
     "metadata": {},
     "output_type": "execute_result"
    }
   ],
   "source": [
    "df.head()"
   ]
  },
  {
   "cell_type": "code",
   "execution_count": 9,
   "id": "aa7f90ca-4635-4daf-be4f-a964999634b2",
   "metadata": {},
   "outputs": [],
   "source": [
    "df.drop(columns='Unnamed: 0', inplace=True)\n",
    "\n",
    "df['subreddit'] = df['subreddit'].replace({'sustainability':1, 'academia':0})\n",
    "\n",
    "df['title_text'] = df['title'] + ' ' + df['selftext'].fillna('')\n",
    "\n",
    "X= df['title_text']\n",
    "y=df['subreddit']"
   ]
  },
  {
   "cell_type": "markdown",
   "id": "1ebad3e4-0313-4260-81e8-549c1b4a7bf8",
   "metadata": {},
   "source": [
    "## Baseline"
   ]
  },
  {
   "cell_type": "code",
   "execution_count": 10,
   "id": "f175b30d-98c8-4f45-83af-d69ad9754307",
   "metadata": {},
   "outputs": [
    {
     "data": {
      "text/plain": [
       "0    0.503403\n",
       "1    0.496597\n",
       "Name: subreddit, dtype: float64"
      ]
     },
     "execution_count": 10,
     "metadata": {},
     "output_type": "execute_result"
    }
   ],
   "source": [
    "y.value_counts(normalize=True)"
   ]
  },
  {
   "cell_type": "markdown",
   "id": "fc95cfed-dd79-4d0e-984d-ffc032677098",
   "metadata": {},
   "source": [
    "#### This model would predict every post to be from the academia subreddit and would be correct 50.3% of the time."
   ]
  },
  {
   "cell_type": "code",
   "execution_count": 11,
   "id": "4a0f261a-cfc2-48b5-b7eb-8a4c0e6392ec",
   "metadata": {},
   "outputs": [],
   "source": [
    "X_train, X_test, y_train, y_test = train_test_split(X, y, random_state=42, stratify=y)"
   ]
  },
  {
   "cell_type": "code",
   "execution_count": 12,
   "id": "47254264-21c8-48b6-b280-f8dde02b0576",
   "metadata": {},
   "outputs": [],
   "source": [
    "pipe = Pipeline([\n",
    "    ('cvec', CountVectorizer()),\n",
    "    ('log', LogisticRegression(random_state=42))\n",
    "    \n",
    "])"
   ]
  },
  {
   "cell_type": "code",
   "execution_count": 13,
   "id": "c2e87f07-01f7-4a16-985d-53249c5147ec",
   "metadata": {},
   "outputs": [
    {
     "data": {
      "text/plain": [
       "(3967, 5)"
      ]
     },
     "execution_count": 13,
     "metadata": {},
     "output_type": "execute_result"
    }
   ],
   "source": [
    "df.shape"
   ]
  },
  {
   "cell_type": "code",
   "execution_count": 14,
   "id": "40bc18d2-ea85-4ad3-b9bb-3a25b4f82efa",
   "metadata": {
    "tags": []
   },
   "outputs": [],
   "source": [
    "#code sourced from https://git.generalassemb.ly/DSIR-0124/Breakfast-Hour/blob/master/06-week/MON%20-%20S%20-%20NLP%20Practice.ipynb\n",
    "def lemmatize_review(post):\n",
    "    lemmatizer = WordNetLemmatizer()\n",
    "    split_post = post.split(' ')\n",
    "    return [lemmatizer.lemmatize(word) for word in split_post]\n"
   ]
  },
  {
   "cell_type": "code",
   "execution_count": 15,
   "id": "e5f27cc1-1bde-4883-bcea-caeb8f35eecc",
   "metadata": {
    "tags": []
   },
   "outputs": [],
   "source": [
    "#code sourced from https://git.generalassemb.ly/DSIR-0124/Breakfast-Hour/blob/master/06-week/MON%20-%20S%20-%20NLP%20Practice.ipynb\n",
    "def stem_review(post):\n",
    "    p_stemmer = PorterStemmer()\n",
    "    split_post = post.split(' ')\n",
    "    return [p_stemmer.stem(word) for word in split_post]\n"
   ]
  },
  {
   "cell_type": "code",
   "execution_count": 16,
   "id": "13f1ab38-b677-4e82-8550-b2b10a4cce3f",
   "metadata": {
    "tags": []
   },
   "outputs": [
    {
     "name": "stdout",
     "output_type": "stream",
     "text": [
      "0.9351260504201682\n"
     ]
    },
    {
     "data": {
      "text/plain": [
       "{'cvec__binary': False,\n",
       " 'cvec__max_df': 1.0,\n",
       " 'cvec__tokenizer': None,\n",
       " 'log__penalty': 'none'}"
      ]
     },
     "execution_count": 16,
     "metadata": {},
     "output_type": "execute_result"
    }
   ],
   "source": [
    "#play with different params. trial and error\n",
    "params = {\n",
    "     #'cvec__stop_words': [None, 'english'],\n",
    "     'cvec__max_df': [1.0, .75, .5, .25],\n",
    "     'cvec__binary': [True, False],\n",
    "     'cvec__tokenizer' : [None, lemmatize_review, stem_review],\n",
    "     'log__penalty': ['none', 'l2',]\n",
    "}\n",
    "\n",
    "gs = GridSearchCV(pipe,\n",
    "                  param_grid=params)\n",
    "gs.fit(X_train, y_train)\n",
    "print(gs.best_score_) # <- cross val score\n",
    "gs.best_params_"
   ]
  },
  {
   "cell_type": "markdown",
   "id": "8e70687f-2f4c-496e-b111-bdf93aafe6ff",
   "metadata": {},
   "source": [
    "In this grid search, I am using a pipeline consisting of count vectorizing which is counting how many times a word/phrase appears within the corpus and therefore binarizing the words of the corpus, and then running that through a logistic regression model. During the grid search, the model is ran multiple times trying out the different parameters provided for both the count vectorizer and the logistic regression model. Once the grid search is finished, I'm able to see what the best accuracy score was that grid searching produced, and the parameters the grid search found that produced that score.\n",
    "\n",
    "This grid search in specific attempted to lemmatize or stem all of the words, however in conjuntion with trying to use stop words multiple warnings arose while grid searching as the stop words themselves were being \"lemmed and/or stemmed\". Then, I attempted to stem and lem the stop words by hand, and feed what should be a complete list of the stemmed and then lemmed stop words, but still saw errors. This work can be seen below. Given more time, I would further explore what stemming and lemmatizing can do for my model in conjunction with stop words."
   ]
  },
  {
   "cell_type": "markdown",
   "id": "eeabcab3-1c96-4f1d-b67b-3bf153cd6f68",
   "metadata": {},
   "source": [
    "Attempts to stem and lem with stop words:"
   ]
  },
  {
   "cell_type": "code",
   "execution_count": 17,
   "id": "6bf90830-abed-4ef0-aeec-e2700c5da925",
   "metadata": {},
   "outputs": [],
   "source": [
    "#stops = list(cvec.get_stop_words()) + ['ha', 'le', 'u', 'wa']\n",
    "\n",
    "#lemm_stop = lemmatize_review(' '.join(stops))\n",
    "\n",
    "#stemmed_stops= stem_review(' '.join(stops))\n",
    "\n",
    "# stemmed_lemmed_stop = stops + stemmed_stops + lemm_stop\n",
    "# stemmed_lemmed_stop"
   ]
  },
  {
   "cell_type": "code",
   "execution_count": 18,
   "id": "6caef411-dad2-464a-9e11-40ac086cfc59",
   "metadata": {},
   "outputs": [
    {
     "data": {
      "image/png": "[encoded data removed]",
      "text/plain": [
       "<Figure size 432x288 with 1 Axes>"
      ]
     },
     "metadata": {
      "needs_background": "light"
     },
     "output_type": "display_data"
    }
   ],
   "source": [
    "plot_confusion_matrix(gs, X_test, y_test, display_labels=['Academia', 'Sustainability'], cmap='cividis', colorbar=False);"
   ]
  },
  {
   "cell_type": "markdown",
   "id": "a98a80fe-5e49-40a6-8f14-eb72229bdf91",
   "metadata": {},
   "source": [
    "This model has an accuracy score of 93.5%, but 37 false positives and 36 false negatives for a total of 73 misclassifications compared to 57 of the best model."
   ]
  },
  {
   "cell_type": "markdown",
   "id": "ed931f52-ea05-47c1-b2c9-258ae31c0c16",
   "metadata": {
    "tags": []
   },
   "source": [
    "## Evaluation"
   ]
  },
  {
   "cell_type": "markdown",
   "id": "814ac8cf-51f9-44c8-996c-20a626252fc8",
   "metadata": {},
   "source": [
    "Since this model has a accuracy score of 93.5% in comparison to a previous models score of 94.3%, no further work will be done with this model."
   ]
  }
 ],
 "metadata": {
  "kernelspec": {
   "display_name": "Python 3 (ipykernel)",
   "language": "python",
   "name": "python3"
  },
  "language_info": {
   "codemirror_mode": {
    "name": "ipython",
    "version": 3
   },
   "file_extension": ".py",
   "mimetype": "text/x-python",
   "name": "python",
   "nbconvert_exporter": "python",
   "pygments_lexer": "ipython3",
   "version": "3.9.7"
  }
 },
 "nbformat": 4,
 "nbformat_minor": 5
}
