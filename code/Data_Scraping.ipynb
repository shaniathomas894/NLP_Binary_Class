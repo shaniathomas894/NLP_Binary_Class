{
 "cells": [
  {
   "cell_type": "code",
   "execution_count": 1,
   "id": "e97f51ce-5659-490b-a0f8-c63db283d275",
   "metadata": {},
   "outputs": [],
   "source": [
    "import numpy as np\n",
    "import pandas as pd\n",
    "import requests\n",
    "import time\n"
   ]
  },
  {
   "cell_type": "code",
   "execution_count": 2,
   "id": "3e6a6088-adba-47c5-b350-0a8db999fc1e",
   "metadata": {},
   "outputs": [
    {
     "data": {
      "text/plain": [
       "1646048629"
      ]
     },
     "execution_count": 2,
     "metadata": {},
     "output_type": "execute_result"
    }
   ],
   "source": [
    "int(time.time())"
   ]
  },
  {
   "cell_type": "code",
   "execution_count": 3,
   "id": "6ffc3b07-02e3-480d-9489-21a69d2a43d5",
   "metadata": {
    "tags": []
   },
   "outputs": [
    {
     "name": "stdout",
     "output_type": "stream",
     "text": [
      "Scraping 100 posts from the sustainability subreddit\n",
      "<Response [200]>\n",
      "Scraping 200 posts from the sustainability subreddit\n",
      "<Response [200]>\n",
      "Scraping 300 posts from the sustainability subreddit\n",
      "<Response [200]>\n",
      "Scraping 400 posts from the sustainability subreddit\n",
      "<Response [200]>\n",
      "Scraping 500 posts from the sustainability subreddit\n",
      "<Response [200]>\n",
      "Scraping 600 posts from the sustainability subreddit\n",
      "<Response [200]>\n",
      "Scraping 700 posts from the sustainability subreddit\n",
      "<Response [200]>\n",
      "Scraping 800 posts from the sustainability subreddit\n",
      "<Response [200]>\n",
      "Scraping 900 posts from the sustainability subreddit\n",
      "<Response [200]>\n",
      "Scraping 1000 posts from the sustainability subreddit\n",
      "<Response [200]>\n",
      "Scraping 1100 posts from the sustainability subreddit\n",
      "<Response [200]>\n",
      "Scraping 1200 posts from the sustainability subreddit\n",
      "<Response [200]>\n",
      "Scraping 1300 posts from the sustainability subreddit\n",
      "<Response [200]>\n",
      "Scraping 1400 posts from the sustainability subreddit\n",
      "<Response [200]>\n",
      "Scraping 1500 posts from the sustainability subreddit\n",
      "<Response [200]>\n",
      "Scraping 1600 posts from the sustainability subreddit\n",
      "<Response [200]>\n",
      "Scraping 1700 posts from the sustainability subreddit\n",
      "<Response [200]>\n",
      "Scraping 1800 posts from the sustainability subreddit\n",
      "<Response [200]>\n",
      "Scraping 1900 posts from the sustainability subreddit\n",
      "<Response [200]>\n",
      "Scraping 2000 posts from the sustainability subreddit\n",
      "<Response [200]>\n",
      "Scraping 100 posts from the academia subreddit\n",
      "<Response [200]>\n",
      "Scraping 200 posts from the academia subreddit\n",
      "<Response [200]>\n",
      "Scraping 300 posts from the academia subreddit\n",
      "<Response [200]>\n",
      "Scraping 400 posts from the academia subreddit\n",
      "<Response [200]>\n",
      "Scraping 500 posts from the academia subreddit\n",
      "<Response [200]>\n",
      "Scraping 600 posts from the academia subreddit\n",
      "<Response [200]>\n",
      "Scraping 700 posts from the academia subreddit\n",
      "<Response [200]>\n",
      "Scraping 800 posts from the academia subreddit\n",
      "<Response [200]>\n",
      "Scraping 900 posts from the academia subreddit\n",
      "<Response [200]>\n",
      "Scraping 1000 posts from the academia subreddit\n",
      "<Response [200]>\n",
      "Scraping 1100 posts from the academia subreddit\n",
      "<Response [200]>\n",
      "Scraping 1200 posts from the academia subreddit\n",
      "<Response [200]>\n",
      "Scraping 1300 posts from the academia subreddit\n",
      "<Response [200]>\n",
      "Scraping 1400 posts from the academia subreddit\n",
      "<Response [200]>\n",
      "Scraping 1500 posts from the academia subreddit\n",
      "<Response [200]>\n",
      "Scraping 1600 posts from the academia subreddit\n",
      "<Response [200]>\n",
      "Scraping 1700 posts from the academia subreddit\n",
      "<Response [200]>\n",
      "Scraping 1800 posts from the academia subreddit\n",
      "<Response [200]>\n",
      "Scraping 1900 posts from the academia subreddit\n",
      "<Response [200]>\n",
      "Scraping 2000 posts from the academia subreddit\n",
      "<Response [200]>\n"
     ]
    }
   ],
   "source": [
    "subreddits = ['sustainability', 'academia']\n",
    "base_url = 'https://api.pushshift.io/reddit/'\n",
    "\n",
    "posts=[] #list of df's\n",
    "\n",
    "for subreddit in subreddits:\n",
    "    before = int(time.time())\n",
    "    \n",
    "    for i in range(1, 21):\n",
    "        print(f'Scraping {i * 100} posts from the {subreddit} subreddit')\n",
    "        params = {\n",
    "            'subreddit':subreddit,\n",
    "            'size':100,\n",
    "            'before': before,\n",
    "        }\n",
    "        res = requests.get(base_url + 'search/submission/?', params=params)\n",
    "        print(res)\n",
    "        data = res.json()\n",
    "        posts_df = pd.DataFrame(data['data'])[['title', 'selftext','subreddit','created_utc']]\n",
    "        \n",
    "        posts.append(posts_df)\n",
    "        before = posts_df['created_utc'].values[-1]\n",
    "        time.sleep(5)\n",
    "        \n",
    "df = pd.concat(posts) #all those small df's in posts and make one big df"
   ]
  },
  {
   "cell_type": "code",
   "execution_count": 4,
   "id": "1a332d23-589e-4c1f-b973-fa9db1513ab7",
   "metadata": {},
   "outputs": [
    {
     "data": {
      "text/plain": [
       "academia          1997\n",
       "sustainability    1969\n",
       "Name: subreddit, dtype: int64"
      ]
     },
     "execution_count": 4,
     "metadata": {},
     "output_type": "execute_result"
    }
   ],
   "source": [
    "df['subreddit'].value_counts()"
   ]
  },
  {
   "cell_type": "code",
   "execution_count": 7,
   "id": "5e771082-00ee-430a-8664-9c21a9ee4a56",
   "metadata": {},
   "outputs": [
    {
     "data": {
      "text/html": [
       "<div>\n",
       "<style scoped>\n",
       "    .dataframe tbody tr th:only-of-type {\n",
       "        vertical-align: middle;\n",
       "    }\n",
       "\n",
       "    .dataframe tbody tr th {\n",
       "        vertical-align: top;\n",
       "    }\n",
       "\n",
       "    .dataframe thead th {\n",
       "        text-align: right;\n",
       "    }\n",
       "</style>\n",
       "<table border=\"1\" class=\"dataframe\">\n",
       "  <thead>\n",
       "    <tr style=\"text-align: right;\">\n",
       "      <th></th>\n",
       "      <th>title</th>\n",
       "      <th>selftext</th>\n",
       "      <th>subreddit</th>\n",
       "      <th>created_utc</th>\n",
       "    </tr>\n",
       "  </thead>\n",
       "  <tbody>\n",
       "    <tr>\n",
       "      <th>0</th>\n",
       "      <td>Help with packaged snacks</td>\n",
       "      <td>I want to minimize my wast production and be a...</td>\n",
       "      <td>sustainability</td>\n",
       "      <td>1646077509</td>\n",
       "    </tr>\n",
       "    <tr>\n",
       "      <th>1</th>\n",
       "      <td>The Ukraine-Russia War Is A Call To Reduce Our...</td>\n",
       "      <td></td>\n",
       "      <td>sustainability</td>\n",
       "      <td>1646073744</td>\n",
       "    </tr>\n",
       "    <tr>\n",
       "      <th>2</th>\n",
       "      <td>Sustainability/EcoFriendly Choice: Shipping VS...</td>\n",
       "      <td>Hi all! Probably a silly question, but I'm deb...</td>\n",
       "      <td>sustainability</td>\n",
       "      <td>1646070479</td>\n",
       "    </tr>\n",
       "    <tr>\n",
       "      <th>3</th>\n",
       "      <td>No Cow? No Problem: I'm Professor Yaakov Nahmi...</td>\n",
       "      <td></td>\n",
       "      <td>sustainability</td>\n",
       "      <td>1646065266</td>\n",
       "    </tr>\n",
       "    <tr>\n",
       "      <th>4</th>\n",
       "      <td>No Cow? No Problem: I'm Professor Yaakov Nahmi...</td>\n",
       "      <td></td>\n",
       "      <td>sustainability</td>\n",
       "      <td>1646064757</td>\n",
       "    </tr>\n",
       "  </tbody>\n",
       "</table>\n",
       "</div>"
      ],
      "text/plain": [
       "                                               title  \\\n",
       "0                          Help with packaged snacks   \n",
       "1  The Ukraine-Russia War Is A Call To Reduce Our...   \n",
       "2  Sustainability/EcoFriendly Choice: Shipping VS...   \n",
       "3  No Cow? No Problem: I'm Professor Yaakov Nahmi...   \n",
       "4  No Cow? No Problem: I'm Professor Yaakov Nahmi...   \n",
       "\n",
       "                                            selftext       subreddit  \\\n",
       "0  I want to minimize my wast production and be a...  sustainability   \n",
       "1                                                     sustainability   \n",
       "2  Hi all! Probably a silly question, but I'm deb...  sustainability   \n",
       "3                                                     sustainability   \n",
       "4                                                     sustainability   \n",
       "\n",
       "   created_utc  \n",
       "0   1646077509  \n",
       "1   1646073744  \n",
       "2   1646070479  \n",
       "3   1646065266  \n",
       "4   1646064757  "
      ]
     },
     "execution_count": 7,
     "metadata": {},
     "output_type": "execute_result"
    }
   ],
   "source": [
    "df.head()"
   ]
  },
  {
   "cell_type": "code",
   "execution_count": 8,
   "id": "184dae62-7e0b-4945-963a-18f7166bab50",
   "metadata": {},
   "outputs": [],
   "source": [
    "file_path = f'./data/reddit_content_{time.strftime(\"%Y%m%d-%H%M%S\")}.csv'\n",
    "df.to_csv(file_path)   "
   ]
  },
  {
   "cell_type": "code",
   "execution_count": null,
   "id": "a0f86f60-c2fc-4ceb-a7cd-e0da202f59c5",
   "metadata": {},
   "outputs": [],
   "source": []
  }
 ],
 "metadata": {
  "kernelspec": {
   "display_name": "Python 3 (ipykernel)",
   "language": "python",
   "name": "python3"
  },
  "language_info": {
   "codemirror_mode": {
    "name": "ipython",
    "version": 3
   },
   "file_extension": ".py",
   "mimetype": "text/x-python",
   "name": "python",
   "nbconvert_exporter": "python",
   "pygments_lexer": "ipython3",
   "version": "3.9.7"
  }
 },
 "nbformat": 4,
 "nbformat_minor": 5
}
